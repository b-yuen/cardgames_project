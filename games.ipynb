{
 "cells": [
  {
   "cell_type": "code",
   "execution_count": 1,
   "metadata": {},
   "outputs": [],
   "source": [
    "import numpy as np\n",
    "import playingcards as pc\n",
    "import matplotlib.pyplot as plt\n",
    "import time\n",
    "from importlib import reload\n",
    "import copy"
   ]
  },
  {
   "cell_type": "markdown",
   "metadata": {},
   "source": [
    "# Basic examples with card and deck objects"
   ]
  },
  {
   "cell_type": "markdown",
   "metadata": {},
   "source": [
    "### card examples"
   ]
  },
  {
   "cell_type": "markdown",
   "metadata": {},
   "source": [
    "Create a card object \\\n",
    "suit method \\\n",
    "rank method \\\n",
    "error if card id out of range \\\n",
    "\\\n",
    "Note: Cards are ordered by suit (spades, clubs, diamonds, hearts), then rank where ace is high."
   ]
  },
  {
   "cell_type": "code",
   "execution_count": 8,
   "metadata": {},
   "outputs": [
    {
     "name": "stdout",
     "output_type": "stream",
     "text": [
      "Clubs\n",
      "2\n",
      "2 of Clubs\n"
     ]
    },
    {
     "data": {
      "text/plain": [
       "1"
      ]
     },
     "execution_count": 8,
     "metadata": {},
     "output_type": "execute_result"
    }
   ],
   "source": [
    "c1 = pc.card(1)\n",
    "print(c1.suit())\n",
    "print(c1.rank())\n",
    "print(c1)\n",
    "c1.value\n",
    "# c2 = card(53)"
   ]
  },
  {
   "cell_type": "code",
   "execution_count": 9,
   "metadata": {},
   "outputs": [
    {
     "name": "stdout",
     "output_type": "stream",
     "text": [
      "4 of Hearts \n",
      " 8 of Spades\n",
      "False\n",
      "True\n"
     ]
    }
   ],
   "source": [
    "c1 = pc.card(11)\n",
    "c2 = pc.card(24)\n",
    "print(c1, '\\n' , c2)\n",
    "print(c1 > c2)\n",
    "print(c1 < c2)"
   ]
  },
  {
   "cell_type": "markdown",
   "metadata": {},
   "source": [
    "### Deck examples"
   ]
  },
  {
   "cell_type": "markdown",
   "metadata": {},
   "source": [
    "Create a deck of cards. Deal 5 cards picked randomly from the deck"
   ]
  },
  {
   "cell_type": "code",
   "execution_count": 10,
   "metadata": {},
   "outputs": [],
   "source": [
    "d1 = pc.deck()"
   ]
  },
  {
   "cell_type": "code",
   "execution_count": 11,
   "metadata": {},
   "outputs": [],
   "source": [
    "x = d1.deal(5)"
   ]
  },
  {
   "cell_type": "markdown",
   "metadata": {},
   "source": [
    "`rank` and `suit` methods return the rank and suit."
   ]
  },
  {
   "cell_type": "code",
   "execution_count": 12,
   "metadata": {},
   "outputs": [
    {
     "data": {
      "text/plain": [
       "['4 of Clubs',\n",
       " 'Jack of Diamonds',\n",
       " '6 of Spades',\n",
       " 'Queen of Spades',\n",
       " '3 of Spades']"
      ]
     },
     "execution_count": 12,
     "metadata": {},
     "output_type": "execute_result"
    }
   ],
   "source": [
    "[str(c.rank()) + ' of ' + c.suit() for c in x]"
   ]
  },
  {
   "cell_type": "markdown",
   "metadata": {},
   "source": [
    "List all cards in the deck. The card's description can be given by `str(card_object)` which is more succint than the exmaple above using `rank` and `suit`."
   ]
  },
  {
   "cell_type": "code",
   "execution_count": 13,
   "metadata": {},
   "outputs": [
    {
     "data": {
      "text/plain": [
       "['2 of Spades',\n",
       " '2 of Clubs',\n",
       " '2 of Diamonds',\n",
       " '2 of Hearts',\n",
       " '3 of Clubs',\n",
       " '3 of Diamonds',\n",
       " '3 of Hearts',\n",
       " '4 of Spades',\n",
       " '4 of Diamonds',\n",
       " '4 of Hearts',\n",
       " '5 of Spades',\n",
       " '5 of Clubs',\n",
       " '5 of Diamonds',\n",
       " '5 of Hearts',\n",
       " '6 of Clubs',\n",
       " '6 of Diamonds',\n",
       " '6 of Hearts',\n",
       " '7 of Spades',\n",
       " '7 of Clubs',\n",
       " '7 of Diamonds',\n",
       " '7 of Hearts',\n",
       " '8 of Spades',\n",
       " '8 of Clubs',\n",
       " '8 of Diamonds',\n",
       " '8 of Hearts',\n",
       " '9 of Spades',\n",
       " '9 of Clubs',\n",
       " '9 of Diamonds',\n",
       " '9 of Hearts',\n",
       " '10 of Spades',\n",
       " '10 of Clubs',\n",
       " '10 of Diamonds',\n",
       " '10 of Hearts',\n",
       " 'Jack of Spades',\n",
       " 'Jack of Clubs',\n",
       " 'Jack of Hearts',\n",
       " 'Queen of Clubs',\n",
       " 'Queen of Diamonds',\n",
       " 'Queen of Hearts',\n",
       " 'King of Spades',\n",
       " 'King of Clubs',\n",
       " 'King of Diamonds',\n",
       " 'King of Hearts',\n",
       " 'Ace of Spades',\n",
       " 'Ace of Clubs',\n",
       " 'Ace of Diamonds',\n",
       " 'Ace of Hearts']"
      ]
     },
     "execution_count": 13,
     "metadata": {},
     "output_type": "execute_result"
    }
   ],
   "source": [
    "[str(c) for c in d1.cards]"
   ]
  },
  {
   "cell_type": "markdown",
   "metadata": {},
   "source": [
    "## Card games"
   ]
  },
  {
   "cell_type": "markdown",
   "metadata": {},
   "source": [
    "### Game 1"
   ]
  },
  {
   "cell_type": "markdown",
   "metadata": {},
   "source": [
    "The game is 'won' when player 1 and player 2 get face cards"
   ]
  },
  {
   "cell_type": "code",
   "execution_count": 14,
   "metadata": {},
   "outputs": [
    {
     "data": {
      "text/plain": [
       "0.0936"
      ]
     },
     "execution_count": 14,
     "metadata": {},
     "output_type": "execute_result"
    }
   ],
   "source": [
    "d1 = pc.deck()\n",
    "\n",
    "n = 10000\n",
    "\n",
    "win_count = 0\n",
    "\n",
    "for i in range(n):\n",
    "\n",
    "    d1.make_deck()\n",
    "\n",
    "    (c1, c2) = d1.deal(2)\n",
    "\n",
    "    win = c1.is_face() & c2.is_face()\n",
    "\n",
    "    if win:\n",
    "        win_count += 1\n",
    "        \n",
    "win_count / n"
   ]
  },
  {
   "cell_type": "markdown",
   "metadata": {},
   "source": [
    "#### Caluclated probaility"
   ]
  },
  {
   "cell_type": "markdown",
   "metadata": {},
   "source": [
    "Player 1 and player two are dealt a card. What is the probality that both get face cards?\\\n",
    "\\\n",
    "There are 4*4=16 face cards in the deck. There are 16/52 ways for player one to get a face card, and subsequently 15/51 for the player two to get a face card.\\\n",
    "\\\n",
    "Alternatively there are $\\left(\\begin{gather} 16 \\\\ 2 \\end{gather} \\right)$ ways to pick two face cards and $P(2,2)=2 !$ to order these over the two players. Hence there are $\\left(\\begin{gather} 16 \\\\ 2 \\end{gather} \\right) P(2,2) = P(16,2) = 16 * 15$ ways to give two players face cards. Similarly there are $P(52,2)=\\left(\\begin{gather} 52 \\\\ 2 \\end{gather} \\right)P(2,2) $$= \\left(\\begin{gather} 52 \\\\ 1 \\end{gather} \\right) $$ \\left(\\begin{gather} 51 \\\\ 1 \\end{gather} \\right)$ ways to give the two players any two face cards.\n",
    "\n",
    "In either case the result is\n",
    "$$\n",
    "\\frac{16 \\cdot 15}{52 \\cdot 51}\n",
    "$$\n"
   ]
  },
  {
   "cell_type": "code",
   "execution_count": 320,
   "metadata": {},
   "outputs": [
    {
     "data": {
      "text/plain": [
       "0.09049773755656108"
      ]
     },
     "execution_count": 320,
     "metadata": {},
     "output_type": "execute_result"
    }
   ],
   "source": [
    "16 * 15 / (52 * 51)"
   ]
  },
  {
   "cell_type": "markdown",
   "metadata": {},
   "source": [
    "### Game 2"
   ]
  },
  {
   "cell_type": "markdown",
   "metadata": {},
   "source": [
    "Win if player 1 gets face card and player two doesn't, or both get face cards and player 1 gets a higher value face card than player 2."
   ]
  },
  {
   "cell_type": "code",
   "execution_count": 15,
   "metadata": {},
   "outputs": [
    {
     "data": {
      "text/plain": [
       "0.2654"
      ]
     },
     "execution_count": 15,
     "metadata": {},
     "output_type": "execute_result"
    }
   ],
   "source": [
    "d1 = pc.deck()\n",
    "\n",
    "n = 10000\n",
    "\n",
    "win_count = 0\n",
    "\n",
    "for i in range(n):\n",
    "\n",
    "    d1.make_deck()\n",
    "\n",
    "    (c1, c2) = d1.deal(2)\n",
    "\n",
    "    # print(c1)\n",
    "    # print(c2)\n",
    "\n",
    "    if c1.is_face():\n",
    "        if c2.is_face():\n",
    "            win = c1 > c2\n",
    "        else:\n",
    "            win = True\n",
    "    else:\n",
    "        win = False\n",
    "    \n",
    "    if win:\n",
    "        win_count += 1\n",
    "        \n",
    "win_count / n"
   ]
  },
  {
   "cell_type": "markdown",
   "metadata": {},
   "source": [
    "Let $A$ be the event where player 1 gets a face card\n",
    "\n",
    "Let $B$ be the event where player 2 gets a face card\n",
    "\n",
    "Then to win we must have $A \\cap \\bar{B}$ or $A \\cap B$ with player one having a higher value card. Thus\n",
    "$$ P(W) = P(A\\cap \\bar B) + P(A\\vert A\\cap B) P(A \\cap B) $$\n",
    "\n",
    "In the event of $A\\cap B$ then there is a $50:50$ chance of either player winning, i.e. $P(W\\vert A\\cap B)=0.5$\n",
    "\n",
    "To calculate $P(W)$ we need the number of ways that $A \\cap B$ and $A \\cap \\bar B$ can happen as well as the total number of ways a card can be dealt to each player ($P(52,2)$).\n",
    "\n",
    "For $A\\cap B$ we simply pick two face cards and give them to two players, for which there are $P(16,2)$ ways.\n",
    "\n",
    "For $A \\cap \\bar B$ there are 16 ways to pick a face card for player 1, and 52-16=36 ways to give player 2 a non-face card.\n",
    "\n",
    "Thus\n",
    "$$\\begin{align}\n",
    "P(W) &= \\frac{\\frac 12 \\cdot 16 \\cdot 15 + 16\\cdot36}{52 \\cdot 51} \\\\\n",
    "&= \\frac{120 + 576}{52 \\cdot 51} \\\\\n",
    "&=\\frac{696}{2652}\n",
    "\\end{align}\n",
    "$$"
   ]
  },
  {
   "cell_type": "code",
   "execution_count": 17,
   "metadata": {},
   "outputs": [
    {
     "data": {
      "text/plain": [
       "0.26244343891402716"
      ]
     },
     "execution_count": 17,
     "metadata": {},
     "output_type": "execute_result"
    }
   ],
   "source": [
    "696/2652"
   ]
  },
  {
   "cell_type": "markdown",
   "metadata": {},
   "source": [
    "### Game 3"
   ]
  },
  {
   "cell_type": "markdown",
   "metadata": {},
   "source": [
    "As game two, but each go I put down an ante of £1. If I win I get £2 back plus my ante, other wise I lose my ante."
   ]
  },
  {
   "cell_type": "code",
   "execution_count": 18,
   "metadata": {},
   "outputs": [
    {
     "data": {
      "text/plain": [
       "-1990"
      ]
     },
     "execution_count": 18,
     "metadata": {},
     "output_type": "execute_result"
    }
   ],
   "source": [
    "d1 = pc.deck()\n",
    "\n",
    "n = 10000\n",
    "\n",
    "profit = 0\n",
    "\n",
    "for i in range(n):\n",
    "\n",
    "    d1.make_deck()\n",
    "\n",
    "    (c1, c2) = d1.deal(2)\n",
    "\n",
    "    # print(c1)\n",
    "    # print(c2)\n",
    "\n",
    "    if c1.is_face():\n",
    "        if c2.is_face():\n",
    "            win = c1 > c2\n",
    "        else:\n",
    "            win = True\n",
    "    else:\n",
    "        win = False\n",
    "    \n",
    "    if win:\n",
    "        profit += 2\n",
    "    else:\n",
    "        profit -= 1\n",
    "        \n",
    "profit"
   ]
  },
  {
   "cell_type": "markdown",
   "metadata": {},
   "source": [
    "Expected profit after one go is $2 P(W) - 1 P(\\bar W) = 2 P(W) - (1-P(W)) = 3 P(W) - 1 = -\\frac{564}{2652}$.\n",
    "\n",
    "Over $n$ games the expected profic is $E[P] = n (3 P(W)-1)$"
   ]
  },
  {
   "cell_type": "code",
   "execution_count": 352,
   "metadata": {},
   "outputs": [
    {
     "data": {
      "text/plain": [
       "-2126.6968325791854"
      ]
     },
     "execution_count": 352,
     "metadata": {},
     "output_type": "execute_result"
    }
   ],
   "source": [
    "-(564/2652) * n"
   ]
  },
  {
   "cell_type": "markdown",
   "metadata": {},
   "source": [
    "### Game 4"
   ]
  },
  {
   "cell_type": "markdown",
   "metadata": {},
   "source": [
    "Like game 3 but I can choose to double the ante, A, after seeing only my card. If I win then I recieve A plus my ante back. If I loose then I loose my ante, A.\n",
    "\n",
    "Strategy 1: always double my ante from £1 to £2 when I get a face card."
   ]
  },
  {
   "cell_type": "code",
   "execution_count": 19,
   "metadata": {},
   "outputs": [
    {
     "data": {
      "text/plain": [
       "-2531"
      ]
     },
     "execution_count": 19,
     "metadata": {},
     "output_type": "execute_result"
    }
   ],
   "source": [
    "d1 = pc.deck()\n",
    "\n",
    "n = 10000\n",
    "\n",
    "profit = 0\n",
    "\n",
    "for i in range(n):\n",
    "    \n",
    "    A = 1\n",
    "\n",
    "    d1.make_deck()\n",
    "\n",
    "    (c1, c2) = d1.deal(2)\n",
    "\n",
    "    # print(c1)\n",
    "    # print(c2)\n",
    "\n",
    "    if c1.is_face():\n",
    "        \n",
    "        A = 2\n",
    "        \n",
    "        if c2.is_face():\n",
    "            win = c1 > c2\n",
    "        else:\n",
    "            win = True\n",
    "    else:\n",
    "        win = False\n",
    "    \n",
    "    if win:\n",
    "        profit += A\n",
    "    else:\n",
    "        profit -= A\n",
    "        \n",
    "profit"
   ]
  },
  {
   "cell_type": "markdown",
   "metadata": {},
   "source": [
    "Given my strategy of doubling ante if I get a face card then in the event:\n",
    "1. $A \\cap \\bar B$ I win $2a$\n",
    "2. $A \\cap B$ I win $2a$ half the time\n",
    "3. $A\\cap B$ I lose $2a$ half the time\n",
    "4. $\\bar A$ I lose a\n",
    "Cases 2 and 3 cancel each other out, so for each round the expected pofit is\n",
    "$$\n",
    "2 a P(A\\cap \\bar B) - a P(\\bar A).\n",
    "$$\n",
    "Since the profit after each round is an independently random variable $X_i$, and for independent random variables \n",
    "$$\n",
    "E\\left[\\sum_i X_i\\right] = \\sum_i E[X_i]\n",
    "$$\n",
    "the expected profit after n rounds is\n",
    "$$\n",
    "\\begin{align}\n",
    "E[X] &= n a (2 P(A \\cap \\bar B) - P(\\bar A)) \\\\\n",
    "&= - n \\frac{684}{2652}\n",
    "\\end{align}\n",
    "$$\n",
    "where $X = \\sum_{i=1}^n X_i$."
   ]
  },
  {
   "cell_type": "code",
   "execution_count": 22,
   "metadata": {},
   "outputs": [
    {
     "data": {
      "text/plain": [
       "-2579.185520361991"
      ]
     },
     "execution_count": 22,
     "metadata": {},
     "output_type": "execute_result"
    }
   ],
   "source": [
    "-n * 684 / 2652"
   ]
  },
  {
   "cell_type": "markdown",
   "metadata": {},
   "source": [
    "Suppose we can choose the factor $\\lambda$ by which we increase our ante. Then \n",
    "$$\n",
    "E[X] = n a (\\lambda P(A\\cap\\bar B) - P(\\bar A)\n",
    "$$\n",
    "From this expression above for $E[X]$ it is clear that to break even we must choose\n",
    "$$\n",
    "\\begin{gather}\n",
    "    \\lambda P(A \\cap \\bar B) - P(\\bar A) = 0 \\\\\n",
    "    \\implies \\lambda = \\frac{P(\\bar A)}{P(A\\cap \\bar B)} = \\frac{51}{16}\n",
    "\\end{gather}\n",
    "$$"
   ]
  },
  {
   "cell_type": "markdown",
   "metadata": {},
   "source": [
    "Let's simulate the break even strategy to find the profit after 100 games. I'll repeat this experiment 5000 times and build a histogram of the expectation value of $X=\\sum_{i=1}^{100} X_i$."
   ]
  },
  {
   "cell_type": "code",
   "execution_count": 20,
   "metadata": {},
   "outputs": [],
   "source": [
    "d1 = pc.deck()\n",
    "\n",
    "n = 100\n",
    "\n",
    "m = 5000\n",
    "\n",
    "profits = np.array([], int)\n",
    "\n",
    "for j in range(m):\n",
    "\n",
    "    profit = 0\n",
    "\n",
    "    for i in range(n):\n",
    "\n",
    "        A = 1\n",
    "\n",
    "        d1.make_deck()\n",
    "\n",
    "        (c1, c2) = d1.deal(2)\n",
    "\n",
    "        # print(c1)\n",
    "        # print(c2)\n",
    "\n",
    "        if c1.is_face():\n",
    "\n",
    "            A = 51/16\n",
    "\n",
    "            if c2.is_face():\n",
    "                win = c1 > c2\n",
    "            else:\n",
    "                win = True\n",
    "        else:\n",
    "            win = False\n",
    "\n",
    "        if win:\n",
    "            profit += A\n",
    "        else:\n",
    "            profit -= A\n",
    "\n",
    "    profits = np.append(profits, profit)"
   ]
  },
  {
   "cell_type": "markdown",
   "metadata": {},
   "source": [
    "The variance of the profit after each round is\n",
    "$$\n",
    "\\begin{align}\n",
    "\\mathrm{Var}(X_i) &= E[X_i^2] - E^2[X_i] \\\\\n",
    "&= E[X_i^2] \\\\\n",
    "&= a^2 \\lambda^2 \\left[P(A \\cap \\bar B + \\frac12 P(A \\cap B) + \\frac12 P(A \\cap B)\\right] + a^2 P(\\bar A)) \\\\\n",
    "   & = \\frac{51^2+16 \\cdot 36}{16 \\cdot 52}\n",
    "\\end{align}\n",
    "$$\n",
    "since $E[X]=0$ for $\\lambda = 51/16$ and $a=1$.\n",
    "\n",
    "For idenpendant random variables $X_1,X_2,...$ the variance $\\mathrm{Var}(X_1+X_2+...) = \\mathrm{Var}(X_1)+ \\mathrm{Var}(X_2)+...$.\n",
    "So the variance for $n$ games is \n",
    "$$\n",
    "\\begin{align}\n",
    "\\mathrm{Var}\\left( \\sum_{i=1}^{n} X_i \\right) &=\n",
    "n \\mathrm{Var}(X_i)\\\\\n",
    "&= n \\frac{51^2+16 \\cdot 36}{16 \\cdot 56}\n",
    "\\end{align}\n",
    "$$\n",
    "and the standard deviation $\\sigma = \\sqrt{\\mathrm{Var}(X)}$"
   ]
  },
  {
   "cell_type": "code",
   "execution_count": 21,
   "metadata": {},
   "outputs": [
    {
     "data": {
      "text/plain": [
       "19.54100717819994"
      ]
     },
     "execution_count": 21,
     "metadata": {},
     "output_type": "execute_result"
    }
   ],
   "source": [
    "std = np.sqrt(n*(51**2 + 16*36) / (16 * 52))\n",
    "std"
   ]
  },
  {
   "cell_type": "code",
   "execution_count": 22,
   "metadata": {},
   "outputs": [
    {
     "data": {
      "text/plain": [
       "19.536481939246382"
      ]
     },
     "execution_count": 22,
     "metadata": {},
     "output_type": "execute_result"
    }
   ],
   "source": [
    "np.sqrt(sum(profits**2) / m - (sum(profits) / m)**2)"
   ]
  },
  {
   "cell_type": "code",
   "execution_count": 23,
   "metadata": {},
   "outputs": [],
   "source": [
    "def normal(mu, sigma, x):\n",
    "    return (2*np.pi)**(-1/2) * 1/sigma * np.exp(- (x-mu)**2 / (2 * sigma**2))\n",
    "\n",
    "X = np.arange(-60,61,1)\n",
    "pdf = np.array([normal(0, std, x) for x in X])"
   ]
  },
  {
   "cell_type": "code",
   "execution_count": 24,
   "metadata": {},
   "outputs": [
    {
     "data": {
      "image/png": "[encoded data removed]",
      "text/plain": [
       "<Figure size 432x288 with 1 Axes>"
      ]
     },
     "metadata": {
      "needs_background": "light"
     },
     "output_type": "display_data"
    }
   ],
   "source": [
    "fig, ax = plt.subplots(1,1)\n",
    "ax.hist(profits, bins = 23,density=True)\n",
    "ax.set_xlabel('E[X]')\n",
    "ax.set_ylabel('probability density')\n",
    "ax.plot(X,pdf)\n",
    "plt.show()"
   ]
  },
  {
   "cell_type": "markdown",
   "metadata": {},
   "source": [
    "If we increase $\\lambda$ further than how does $E[X]$ compare to $\\sigma_X$, what is their Sharpe ratio $S(X)=E[X]/\\sigma_X$?\n",
    "\n",
    "$$\n",
    "\\begin{align}\n",
    "E[X] &= n a (\\lambda P(A \\cap \\bar B) - P(\\bar A)) \\\\\n",
    "&= n a \\frac{36}{52\\cdot 51} \\left(16 \\lambda -51 \\right)\n",
    "\\end{align}\n",
    "$$\n",
    "while\n",
    "$$\n",
    "\\begin{align}\n",
    "\\mathrm{Var}(X) &= n a^2 \\left[ \\lambda^2 P(A) + P(\\bar A) \\right] \\\\\n",
    "&=n a^2 \\frac{16 \\lambda^2 + 36}{52} \\\\\n",
    "&= \\sigma_X^2\n",
    "\\end{align}\n",
    "$$\n",
    "So the Sharpe ratio is\n",
    "$$\n",
    "\\begin{align}\n",
    "S_X &= \\frac{E[X]}{\\sigma_X} \\\\\n",
    "&= \n",
    "n a \\frac{\\frac{36}{52 \\cdot 51} (16 \\lambda - 51)}{\\sqrt{n} a \\sqrt{\\frac{16 \\lambda^2 + 36}{52}}} \\\\\n",
    "&= \\sqrt{n} \\frac{36}{\\sqrt{52}\\cdot 51}\\frac{16 \\lambda - 51}{\\sqrt{16 \\lambda^2 + 36}}\n",
    "\\end{align}\n",
    "$$"
   ]
  },
  {
   "cell_type": "markdown",
   "metadata": {},
   "source": [
    "So $S_X \\propto \\sqrt{n}$ and for $\\lambda \\gg 51/16$ is $S_X \\approx \\frac{4 \\cdot 36}{\\sqrt{52}\\cdot 51} \\sqrt{n}$"
   ]
  },
  {
   "cell_type": "code",
   "execution_count": 113,
   "metadata": {},
   "outputs": [
    {
     "data": {
      "text/plain": [
       "0.39155307968839703"
      ]
     },
     "execution_count": 113,
     "metadata": {},
     "output_type": "execute_result"
    }
   ],
   "source": [
    "4 * 36 / (np.sqrt(52) * 51)"
   ]
  },
  {
   "cell_type": "markdown",
   "metadata": {},
   "source": [
    "## Games with pairs"
   ]
  },
  {
   "cell_type": "markdown",
   "metadata": {},
   "source": [
    "### two_card_hand object examples"
   ]
  },
  {
   "cell_type": "code",
   "execution_count": 25,
   "metadata": {},
   "outputs": [],
   "source": [
    "d1 = pc.deck()\n",
    "\n",
    "h1 = pc.two_card_hand(d1.deal(2))\n",
    "h2 = pc.two_card_hand(d1.deal(2))"
   ]
  },
  {
   "cell_type": "code",
   "execution_count": 26,
   "metadata": {},
   "outputs": [
    {
     "name": "stdout",
     "output_type": "stream",
     "text": [
      "King of Diamonds\n",
      "8 of Hearts\n",
      "10 of Hearts\n",
      "2 of Clubs\n"
     ]
    }
   ],
   "source": [
    "[print(c) for c in h1.cards];\n",
    "[print(c) for c in h2.cards];"
   ]
  },
  {
   "cell_type": "code",
   "execution_count": 27,
   "metadata": {},
   "outputs": [
    {
     "name": "stdout",
     "output_type": "stream",
     "text": [
      "True\n"
     ]
    }
   ],
   "source": [
    "h1.value\n",
    "h2.value\n",
    "test = h1.value > h2.value\n",
    "print(test)"
   ]
  },
  {
   "cell_type": "code",
   "execution_count": 28,
   "metadata": {},
   "outputs": [
    {
     "data": {
      "text/plain": [
       "False"
      ]
     },
     "execution_count": 28,
     "metadata": {},
     "output_type": "execute_result"
    }
   ],
   "source": [
    "h1.findpairs()"
   ]
  },
  {
   "cell_type": "markdown",
   "metadata": {},
   "source": [
    "### Two card hand game 1"
   ]
  },
  {
   "cell_type": "code",
   "execution_count": 29,
   "metadata": {},
   "outputs": [],
   "source": [
    "def win(my_hand, opponent_hand):\n",
    "    have_pair = my_hand.findpairs()\n",
    "    better_hand = my_hand.value > opponent_hand.value\n",
    "    if have_pair and better_hand:\n",
    "        i_win = True\n",
    "    else:\n",
    "        i_win = False\n",
    "    return i_win"
   ]
  },
  {
   "cell_type": "code",
   "execution_count": 32,
   "metadata": {},
   "outputs": [],
   "source": [
    "def exp_val_wins(n_trials):\n",
    "    win_count = 0\n",
    "\n",
    "    for i in range(n_trials):\n",
    "\n",
    "        d = pc.deck()\n",
    "        h1 = pc.two_card_hand(d.deal(2))\n",
    "        h2 = pc.two_card_hand(d.deal(2))\n",
    "\n",
    "        won = h1.findpairs() and not h2.findpairs()\n",
    "    #     won = win(h1, h2)\n",
    "\n",
    "        if won:\n",
    "            win_count +=1\n",
    "\n",
    "    return win_count / n_trials"
   ]
  },
  {
   "cell_type": "code",
   "execution_count": 33,
   "metadata": {},
   "outputs": [],
   "source": [
    "reps = 500\n",
    "data = np.array([exp_val_wins(200) for i in range(reps)])"
   ]
  },
  {
   "cell_type": "code",
   "execution_count": 34,
   "metadata": {},
   "outputs": [
    {
     "name": "stdout",
     "output_type": "stream",
     "text": [
      "0.05682\n",
      "0.016425212327394734\n",
      "0.0007345578261784432\n"
     ]
    }
   ],
   "source": [
    "print(np.mean(data))\n",
    "print(np.sqrt(np.var(data)))\n",
    "print(np.sqrt(np.var(data)/reps))"
   ]
  },
  {
   "cell_type": "code",
   "execution_count": 35,
   "metadata": {},
   "outputs": [
    {
     "data": {
      "image/png": "[encoded data removed]",
      "text/plain": [
       "<Figure size 432x288 with 1 Axes>"
      ]
     },
     "metadata": {
      "needs_background": "light"
     },
     "output_type": "display_data"
    }
   ],
   "source": [
    "mean_val = np.mean(data)\n",
    "std_dev = np.sqrt(np.var(data))\n",
    "fig, ax = plt.subplots(1,1)\n",
    "plt.hist(data, bins = 7)\n",
    "ax.vlines([mean_val - std_dev, mean_val, mean_val + std_dev], 0, 200)\n",
    "plt.show()"
   ]
  },
  {
   "cell_type": "markdown",
   "metadata": {},
   "source": [
    "Analytic calculation of win probability"
   ]
  },
  {
   "cell_type": "code",
   "execution_count": 152,
   "metadata": {},
   "outputs": [],
   "source": [
    "def c(n, k):\n",
    "    if k > n:\n",
    "        raise Exception(\"second argument, k, must be a positive integer less than or equal to first argument, n.\")\n",
    "    elif k < 0:\n",
    "        raise Exception(\"second argument, k, must be greater than or equal to 0.\")\n",
    "    elif n < 0:\n",
    "        raise Exception(\"first argument, n, must be greater than or equal to 0.\")\n",
    "    nn = 1\n",
    "    factor = n\n",
    "    m1 = max(k, n-k)\n",
    "    m2 = min(k, n-k)\n",
    "    while factor > m1:\n",
    "        nn *= factor\n",
    "        factor -= 1\n",
    "    d = 1\n",
    "    factor = m2\n",
    "    while factor > 0:\n",
    "        d *= factor\n",
    "        factor -= 1\n",
    "    if (nn/d) % 1 == 0:\n",
    "        c = int(nn/d)\n",
    "    else:\n",
    "        c = nn/d\n",
    "    return c"
   ]
  },
  {
   "cell_type": "code",
   "execution_count": 153,
   "metadata": {},
   "outputs": [
    {
     "name": "stdout",
     "output_type": "stream",
     "text": [
      "64\n",
      "64\n"
     ]
    }
   ],
   "source": [
    "n=6\n",
    "print(sum([c(n,k) for k in range(n+1)]))\n",
    "print(2**n)"
   ]
  },
  {
   "cell_type": "code",
   "execution_count": 163,
   "metadata": {},
   "outputs": [
    {
     "name": "stdout",
     "output_type": "stream",
     "text": [
      "89856\n"
     ]
    },
    {
     "data": {
      "text/plain": [
       "89856"
      ]
     },
     "execution_count": 163,
     "metadata": {},
     "output_type": "execute_result"
    }
   ],
   "source": [
    "print(c(13,1)*c(4,2)*( c(12,2)*c(4,1)**2 + c(1,1)*c(2,1)*c(12,1)*c(4,1) ))\n",
    "c(13,2)*c(4,1)**2 * ( c(2,1)* c(3,2) + c(11,1)*c(4,2))"
   ]
  },
  {
   "cell_type": "code",
   "execution_count": 205,
   "metadata": {},
   "outputs": [
    {
     "data": {
      "text/plain": [
       "0.05531812725090036"
      ]
     },
     "execution_count": 205,
     "metadata": {},
     "output_type": "execute_result"
    }
   ],
   "source": [
    "c(13,2)*c(4,1)**2 * ( c(2,1)* c(3,2) + c(11,1)*c(4,2)) / (c(52,2)*c(50,2))"
   ]
  },
  {
   "cell_type": "code",
   "execution_count": 206,
   "metadata": {},
   "outputs": [
    {
     "data": {
      "text/plain": [
       "0.058823529411764705"
      ]
     },
     "execution_count": 206,
     "metadata": {},
     "output_type": "execute_result"
    }
   ],
   "source": [
    "c(13,1)*c(4,2) / c(52,2)"
   ]
  },
  {
   "cell_type": "markdown",
   "metadata": {},
   "source": [
    "### Two card hand: Games 2"
   ]
  },
  {
   "cell_type": "markdown",
   "metadata": {},
   "source": [
    "Two players are each dealt two cards. The player with the highest value card wins."
   ]
  },
  {
   "cell_type": "markdown",
   "metadata": {},
   "source": [
    "#### Numerical simulation"
   ]
  },
  {
   "cell_type": "code",
   "execution_count": 3,
   "metadata": {},
   "outputs": [],
   "source": [
    "import time\n",
    "import copy"
   ]
  },
  {
   "cell_type": "code",
   "execution_count": 7,
   "metadata": {},
   "outputs": [
    {
     "data": {
      "text/plain": [
       "<module 'playingcards' from '/Users/benjaminyuen/Google Drive/personal/Prob_Stats/cardgames/playingcards/__init__.py'>"
      ]
     },
     "execution_count": 7,
     "metadata": {},
     "output_type": "execute_result"
    }
   ],
   "source": [
    "reload(pc)"
   ]
  },
  {
   "cell_type": "code",
   "execution_count": 36,
   "metadata": {},
   "outputs": [
    {
     "name": "stdout",
     "output_type": "stream",
     "text": [
      "40\n",
      "161.26399493217468\n"
     ]
    }
   ],
   "source": [
    "n = 500\n",
    "m = 200\n",
    "\n",
    "d = pc.deck()\n",
    "h1 = pc.hand(d.deal(2))\n",
    "v1 = max([c.value for c in h1.cards])\n",
    "\n",
    "st = time.time()\n",
    "\n",
    "winprob = []\n",
    "\n",
    "for i in range(m):\n",
    "\n",
    "    wincount = 0\n",
    "\n",
    "    for i in range(n):\n",
    "\n",
    "        d_i = copy.deepcopy(d)\n",
    "        h2 = pc.hand(d_i.deal(2))\n",
    "        v2 = max([c.value for c in h2.cards])\n",
    "\n",
    "        if v1 > v2:\n",
    "            wincount += 1\n",
    "            \n",
    "    winprob.append(wincount / n)\n",
    "\n",
    "et = time.time()\n",
    " \n",
    "print(v1) \n",
    "# print(wincount / n)\n",
    "print(et-st)"
   ]
  },
  {
   "cell_type": "code",
   "execution_count": 37,
   "metadata": {},
   "outputs": [
    {
     "data": {
      "image/png": "[encoded data removed]",
      "text/plain": [
       "<Figure size 432x288 with 1 Axes>"
      ]
     },
     "metadata": {
      "needs_background": "light"
     },
     "output_type": "display_data"
    }
   ],
   "source": [
    "fig, ax = plt.subplots(1,1)\n",
    "ax.hist(winprob, bins = 6,density=True)\n",
    "ax.set_xlabel('E[X]')\n",
    "ax.set_ylabel('probability density')\n",
    "# ax.plot(X,pdf)\n",
    "ax.vlines([(v1-1)*(v1-2)/(50*49)], 0, 8)\n",
    "plt.show()"
   ]
  },
  {
   "cell_type": "markdown",
   "metadata": {},
   "source": [
    "#### Analytic calculation of probability of winning"
   ]
  },
  {
   "cell_type": "markdown",
   "metadata": {},
   "source": [
    "When each player has the choice of two cards, what is the probability that player 1 wins? This clearly depends on the value player 1's hand, which I assume they know.\n",
    "\n",
    "To understand this problem, we number the cards in the deck from 1 to 52 in order of ascending value, e.g. \\\n",
    "2 of spades has value 1, \\\n",
    "2 of clubs has value 2, \\\n",
    "2 of diamonds has value 3, \\\n",
    "2 of hearts has value 4,\\\n",
    "$\\vdots$ \\\n",
    "Ace of hearts has value 52.\n",
    "\n",
    "Let player 1 have hand of value $n$, i.e. their highest card is the $n^{\\mathrm{th}}$ highest card in the deck. Then for player 1 to win, player 2 can have any two cards lower than value $n$. That is player two must have highest card of value $n-1$ or lower. Since player one has two cards, we can rank the remaining 50 cards in the deck in ascending order from 1 to 50. Now the card which was previously the $(n-1)^{\\mathrm{th}}$ highest card in the full deck is the $(n-2)^{\\mathrm{th}}$ highest card in the deck once we have taken out player 1's lowest card which is also less than $n$.\n",
    "\n",
    "There are exacly $\\left(\\begin{gather} n-2 \\\\ 2 \\end{gather}\\right)$ ways to pick two cards from the $n-2$ cards that reamin in the deck and have value lower than $n$. There are a total of $\\left( \\begin{gather} 50 \\\\2 \\end{gather} \\right)$ ways to pick player twos card given player one has two cards. Thus the probability of the event $W_1$ where player 1 wins is\n",
    "$$\\begin{align}\n",
    "P(W_1\\vert n) &= \\frac{\\left(\\begin{gather} n-2 \\\\ 2 \\end{gather} \\right)}{ \\left(\\begin{gather} 50 \\\\ 2 \\end{gather} \\right)} \\\\\n",
    "&= \\frac{(n-2)(n-3)}{50 \\cdot 49}\n",
    "\\end{align}\n",
    "$$\n"
   ]
  },
  {
   "cell_type": "markdown",
   "metadata": {},
   "source": [
    "$P(W_1\\vert n)$ increases quadratically with n, the value of their highest card. If we were gambling, then given the opportunity we would want to raise our bet if we have n such that $P(W_1 \\vert n) > 0.5$. Solving this quadratic inequality we find this occurs when $n>37.5$. After this point (a card of value 38 or higher , i.e. 9 of diamonds or better) the probability of winning grows quite quickly."
   ]
  },
  {
   "cell_type": "code",
   "execution_count": 26,
   "metadata": {},
   "outputs": [
    {
     "name": "stdout",
     "output_type": "stream",
     "text": [
      "King of Diamonds\n"
     ]
    }
   ],
   "source": [
    "print(pc.card(37))"
   ]
  },
  {
   "cell_type": "code",
   "execution_count": 23,
   "metadata": {},
   "outputs": [
    {
     "data": {
      "image/png": "[encoded data removed]",
      "text/plain": [
       "<Figure size 432x288 with 1 Axes>"
      ]
     },
     "metadata": {
      "needs_background": "light"
     },
     "output_type": "display_data"
    }
   ],
   "source": [
    "N = range(1,53,1)\n",
    "pwn = [(n-2)*(n-3)/50/49 for n in N]\n",
    "fig, ax = plt.subplots()\n",
    "ax.plot(N, pwn)\n",
    "ax.set_xlabel(\"player 1's highest card's value\")\n",
    "ax.set_ylabel(r'$P(W_1 \\vert n)$')\n",
    "ax.vlines(37.5,0,1)\n",
    "ax.hlines(0.5,0,52)\n",
    "plt.show()"
   ]
  },
  {
   "cell_type": "markdown",
   "metadata": {},
   "source": [
    "#### Numerical extimates of $P(W_1\\vert n)$ versus $n$"
   ]
  },
  {
   "cell_type": "code",
   "execution_count": 63,
   "metadata": {},
   "outputs": [
    {
     "data": {
      "text/plain": [
       "array([0, 1, 2, 3, 4, 5, 6, 7, 8, 9])"
      ]
     },
     "execution_count": 63,
     "metadata": {},
     "output_type": "execute_result"
    }
   ],
   "source": [
    "test = np.arange(10)\n",
    "test"
   ]
  },
  {
   "cell_type": "code",
   "execution_count": 66,
   "metadata": {},
   "outputs": [
    {
     "data": {
      "text/plain": [
       "array([1, 2, 3, 4, 5, 6, 7, 8, 9])"
      ]
     },
     "execution_count": 66,
     "metadata": {},
     "output_type": "execute_result"
    }
   ],
   "source": [
    "test[1::]"
   ]
  },
  {
   "cell_type": "code",
   "execution_count": 79,
   "metadata": {},
   "outputs": [],
   "source": [
    "def winprob_vs_n(lowest_card_value):\n",
    "    \n",
    "    c0 = lowest_card_value\n",
    "\n",
    "    d0 = pc.deck()\n",
    "    d0.removecards([pc.card(c0)])\n",
    "\n",
    "    n = 100\n",
    "\n",
    "    winprob = []\n",
    "\n",
    "    st = time.time()\n",
    "\n",
    "    for card in d0.cards[c0::]:\n",
    "\n",
    "        d = pc.deck()\n",
    "        to_remove = np.array([pc.card(c0), card])\n",
    "        d.removecards(to_remove)\n",
    "        v1 = card.value\n",
    "\n",
    "        wincount = 0\n",
    "\n",
    "        for i in range(n):\n",
    "\n",
    "            d_i = copy.deepcopy(d)\n",
    "            h2 = pc.hand(d_i.deal(2))\n",
    "            v2 = max([c.value for c in h2.cards])\n",
    "\n",
    "            if v1 > v2:\n",
    "                wincount += 1\n",
    "\n",
    "        winprob.append(wincount / n)\n",
    "\n",
    "    et = time.time()\n",
    "\n",
    "    v1s = [c.value + 1 for c in d0.cards[c0::]]\n",
    "\n",
    "    print(et - st)\n",
    "\n",
    "    return (v1s, winprob)"
   ]
  },
  {
   "cell_type": "code",
   "execution_count": 83,
   "metadata": {},
   "outputs": [
    {
     "name": "stdout",
     "output_type": "stream",
     "text": [
      "8.007811069488525\n"
     ]
    }
   ],
   "source": [
    "(n0, wp0) = winprob_vs_n(0)"
   ]
  },
  {
   "cell_type": "code",
   "execution_count": 80,
   "metadata": {},
   "outputs": [
    {
     "name": "stdout",
     "output_type": "stream",
     "text": [
      "7.366391897201538\n"
     ]
    }
   ],
   "source": [
    "(n5, wp5) = winprob_vs_n(5)"
   ]
  },
  {
   "cell_type": "code",
   "execution_count": 81,
   "metadata": {},
   "outputs": [
    {
     "name": "stdout",
     "output_type": "stream",
     "text": [
      "5.528061866760254\n"
     ]
    }
   ],
   "source": [
    "(n15, wp15) = winprob_vs_n(15)"
   ]
  },
  {
   "cell_type": "code",
   "execution_count": 82,
   "metadata": {},
   "outputs": [
    {
     "name": "stdout",
     "output_type": "stream",
     "text": [
      "2.1646728515625\n"
     ]
    }
   ],
   "source": [
    "(n37, wp37) = winprob_vs_n(37)"
   ]
  },
  {
   "cell_type": "code",
   "execution_count": 84,
   "metadata": {},
   "outputs": [
    {
     "data": {
      "image/png": "[encoded data removed]",
      "text/plain": [
       "<Figure size 432x288 with 1 Axes>"
      ]
     },
     "metadata": {
      "needs_background": "light"
     },
     "output_type": "display_data"
    }
   ],
   "source": [
    "N = range(2,53,1)\n",
    "pwn = [(n-2)*(n-3)/50/49 for n in N]\n",
    "fig, ax = plt.subplots()\n",
    "ax.plot(N, pwn)\n",
    "ax.plot(n0, wp0, linestyle = '', marker = 'o')\n",
    "ax.plot(n5, wp5, linestyle = '', marker = 'o')\n",
    "ax.plot(n15, wp15, linestyle = '', marker = 'o')\n",
    "ax.plot(n37, wp37, linestyle = '', marker = 'o')\n",
    "ax.set_xlabel(\"player 1's highest card's value\")\n",
    "ax.set_ylabel(r'$P(W_1 \\vert n)$')\n",
    "ax.vlines(37.5,0,1)\n",
    "ax.hlines(0.5,0,52)\n",
    "plt.show()"
   ]
  },
  {
   "cell_type": "code",
   "execution_count": null,
   "metadata": {},
   "outputs": [],
   "source": []
  }
 ],
 "metadata": {
  "kernelspec": {
   "display_name": "Python 3",
   "language": "python",
   "name": "python3"
  },
  "language_info": {
   "codemirror_mode": {
    "name": "ipython",
    "version": 3
   },
   "file_extension": ".py",
   "mimetype": "text/x-python",
   "name": "python",
   "nbconvert_exporter": "python",
   "pygments_lexer": "ipython3",
   "version": "3.7.4"
  }
 },
 "nbformat": 4,
 "nbformat_minor": 2
}
